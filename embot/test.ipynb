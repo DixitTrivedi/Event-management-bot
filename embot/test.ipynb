{
 "cells": [
  {
   "cell_type": "code",
   "execution_count": 4,
   "metadata": {},
   "outputs": [],
   "source": [
    "import sqlite3\n",
    "import pandas as pd\n",
    "import datetime"
   ]
  },
  {
   "cell_type": "code",
   "execution_count": 9,
   "metadata": {},
   "outputs": [
    {
     "data": {
      "text/plain": [
       "<sqlite3.Connection at 0x7f199c25fa80>"
      ]
     },
     "execution_count": 9,
     "metadata": {},
     "output_type": "execute_result"
    }
   ],
   "source": [
    "conn = sqlite3.connect('hoteldata.sqlite')\n",
    "conn"
   ]
  },
  {
   "cell_type": "code",
   "execution_count": 10,
   "metadata": {},
   "outputs": [],
   "source": [
    "query = \"SELECT name, url, rating, address FROM hoteldata WHERE img!=\\\"\\\" AND facility!=\\\"\\\" AND city=\\\"Bangalore\\\" ORDER BY rating desc LIMIT 5\""
   ]
  },
  {
   "cell_type": "code",
   "execution_count": 13,
   "metadata": {},
   "outputs": [],
   "source": [
    "df = pd.read_sql(query, conn)"
   ]
  },
  {
   "cell_type": "code",
   "execution_count": 12,
   "metadata": {},
   "outputs": [
    {
     "data": {
      "text/plain": [
       "'SELECT name, url, rating, address FROM hoteldata WHERE img!=\"\" AND facility!=\"\" AND city=\"Bangalore\" ORDER BY rating desc LIMIT 5'"
      ]
     },
     "execution_count": 12,
     "metadata": {},
     "output_type": "execute_result"
    }
   ],
   "source": [
    "query"
   ]
  },
  {
   "cell_type": "code",
   "execution_count": 14,
   "metadata": {},
   "outputs": [
    {
     "data": {
      "text/html": [
       "<div>\n",
       "<style scoped>\n",
       "    .dataframe tbody tr th:only-of-type {\n",
       "        vertical-align: middle;\n",
       "    }\n",
       "\n",
       "    .dataframe tbody tr th {\n",
       "        vertical-align: top;\n",
       "    }\n",
       "\n",
       "    .dataframe thead th {\n",
       "        text-align: right;\n",
       "    }\n",
       "</style>\n",
       "<table border=\"1\" class=\"dataframe\">\n",
       "  <thead>\n",
       "    <tr style=\"text-align: right;\">\n",
       "      <th></th>\n",
       "      <th>name</th>\n",
       "      <th>url</th>\n",
       "      <th>rating</th>\n",
       "      <th>address</th>\n",
       "    </tr>\n",
       "  </thead>\n",
       "  <tbody>\n",
       "    <tr>\n",
       "      <th>0</th>\n",
       "      <td>Best Western Plus Jagadish</td>\n",
       "      <td>https://www.google.com</td>\n",
       "      <td>4 star</td>\n",
       "      <td>No 51, 4th Block, 11th Main, Jayanagar, Bangal...</td>\n",
       "    </tr>\n",
       "    <tr>\n",
       "      <th>1</th>\n",
       "      <td>Casa Cottage</td>\n",
       "      <td>https://www.google.com</td>\n",
       "      <td>3 star</td>\n",
       "      <td>N-2, clapham Street, Richmond road , Richmond ...</td>\n",
       "    </tr>\n",
       "    <tr>\n",
       "      <th>2</th>\n",
       "      <td>The Elite Royale</td>\n",
       "      <td>https://www.google.com</td>\n",
       "      <td>3 star</td>\n",
       "      <td>9th Main,13th Corss,6th Sector , H S R Layout-...</td>\n",
       "    </tr>\n",
       "    <tr>\n",
       "      <th>3</th>\n",
       "      <td>Melange Luxury Service Apartment</td>\n",
       "      <td>https://www.google.com</td>\n",
       "      <td>3 star</td>\n",
       "      <td>No 21 Suryamukhi Garden Apartments , Vittal Ma...</td>\n",
       "    </tr>\n",
       "    <tr>\n",
       "      <th>4</th>\n",
       "      <td>The Orange Hotel</td>\n",
       "      <td>https://www.google.com</td>\n",
       "      <td>3 star</td>\n",
       "      <td>No.90/6, Nr Innovative MultiplexOuter Ring Rd ...</td>\n",
       "    </tr>\n",
       "  </tbody>\n",
       "</table>\n",
       "</div>"
      ],
      "text/plain": [
       "                               name                     url  rating  \\\n",
       "0        Best Western Plus Jagadish  https://www.google.com  4 star   \n",
       "1                      Casa Cottage  https://www.google.com  3 star   \n",
       "2                  The Elite Royale  https://www.google.com  3 star   \n",
       "3  Melange Luxury Service Apartment  https://www.google.com  3 star   \n",
       "4                  The Orange Hotel  https://www.google.com  3 star   \n",
       "\n",
       "                                             address  \n",
       "0  No 51, 4th Block, 11th Main, Jayanagar, Bangal...  \n",
       "1  N-2, clapham Street, Richmond road , Richmond ...  \n",
       "2  9th Main,13th Corss,6th Sector , H S R Layout-...  \n",
       "3  No 21 Suryamukhi Garden Apartments , Vittal Ma...  \n",
       "4  No.90/6, Nr Innovative MultiplexOuter Ring Rd ...  "
      ]
     },
     "execution_count": 14,
     "metadata": {},
     "output_type": "execute_result"
    }
   ],
   "source": [
    "df.head()"
   ]
  },
  {
   "cell_type": "code",
   "execution_count": 20,
   "metadata": {},
   "outputs": [],
   "source": [
    "if df.shape[0]>0:\n",
    "    values = list(df.values)"
   ]
  },
  {
   "cell_type": "code",
   "execution_count": 21,
   "metadata": {},
   "outputs": [
    {
     "data": {
      "text/plain": [
       "[array(['Best Western Plus Jagadish', 'https://www.google.com', '4 star',\n",
       "        'No 51, 4th Block, 11th Main, Jayanagar, Bangalore , Jayanagar'],\n",
       "       dtype=object),\n",
       " array(['Casa Cottage', 'https://www.google.com', '3 star',\n",
       "        'N-2, clapham Street, Richmond road , Richmond Road'], dtype=object),\n",
       " array(['The Elite Royale', 'https://www.google.com', '3 star',\n",
       "        '9th Main,13th Corss,6th Sector , H S R Layout-Koramangala'],\n",
       "       dtype=object),\n",
       " array(['Melange Luxury Service Apartment', 'https://www.google.com',\n",
       "        '3 star',\n",
       "        'No 21 Suryamukhi Garden Apartments , Vittal Mallya Road'],\n",
       "       dtype=object),\n",
       " array(['The Orange Hotel', 'https://www.google.com', '3 star',\n",
       "        'No.90/6, Nr Innovative MultiplexOuter Ring Rd , Marathahalli'],\n",
       "       dtype=object)]"
      ]
     },
     "execution_count": 21,
     "metadata": {},
     "output_type": "execute_result"
    }
   ],
   "source": [
    "values"
   ]
  },
  {
   "cell_type": "code",
   "execution_count": 49,
   "metadata": {},
   "outputs": [],
   "source": [
    "content = 'Below are the options:\\n\\n'\n",
    "\n",
    "for data in values:\n",
    "    hotelname = data[0]\n",
    "    link = data[1]\n",
    "    rating = data[2]\n",
    "    address = data[3]\n",
    "\n",
    "    content = content + \"Hotelname: \"+hotelname+ \"\\nBook Now: \" +link+ \"\\nRatting: \"+rating+ \"\\nAddress: \"+address + \"\\n\\n\""
   ]
  },
  {
   "cell_type": "code",
   "execution_count": 50,
   "metadata": {},
   "outputs": [
    {
     "name": "stdout",
     "output_type": "stream",
     "text": [
      "Below are the options:\n",
      "\n",
      "Hotelname: Best Western Plus Jagadish\n",
      "Book Now: https://www.google.com\n",
      "Ratting: 4 star\n",
      "Address: No 51, 4th Block, 11th Main, Jayanagar, Bangalore , Jayanagar\n",
      "\n",
      "Hotelname: Casa Cottage\n",
      "Book Now: https://www.google.com\n",
      "Ratting: 3 star\n",
      "Address: N-2, clapham Street, Richmond road , Richmond Road\n",
      "\n",
      "Hotelname: The Elite Royale\n",
      "Book Now: https://www.google.com\n",
      "Ratting: 3 star\n",
      "Address: 9th Main,13th Corss,6th Sector , H S R Layout-Koramangala\n",
      "\n",
      "Hotelname: Melange Luxury Service Apartment\n",
      "Book Now: https://www.google.com\n",
      "Ratting: 3 star\n",
      "Address: No 21 Suryamukhi Garden Apartments , Vittal Mallya Road\n",
      "\n",
      "Hotelname: The Orange Hotel\n",
      "Book Now: https://www.google.com\n",
      "Ratting: 3 star\n",
      "Address: No.90/6, Nr Innovative MultiplexOuter Ring Rd , Marathahalli\n",
      "\n",
      "\n"
     ]
    }
   ],
   "source": [
    "print(content)"
   ]
  },
  {
   "cell_type": "code",
   "execution_count": null,
   "metadata": {},
   "outputs": [],
   "source": []
  }
 ],
 "metadata": {
  "kernelspec": {
   "display_name": "Python 3",
   "language": "python",
   "name": "python3"
  },
  "language_info": {
   "codemirror_mode": {
    "name": "ipython",
    "version": 3
   },
   "file_extension": ".py",
   "mimetype": "text/x-python",
   "name": "python",
   "nbconvert_exporter": "python",
   "pygments_lexer": "ipython3",
   "version": "3.8.5"
  }
 },
 "nbformat": 4,
 "nbformat_minor": 4
}
